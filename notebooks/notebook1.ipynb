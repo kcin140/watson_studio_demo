{
 "cells": [
  {
   "cell_type": "code",
   "execution_count": 1,
   "id": "incredible-passage",
   "metadata": {
    "id": "c7a03210-a334-46ef-9e0e-aca4ff9bd81c",
    "tags": []
   },
   "outputs": [
    {
     "name": "stdout",
     "output_type": "stream",
     "text": [
      "Hello world!\n"
     ]
    }
   ],
   "source": [
    "print(\"Hello world!\")"
   ]
  },
  {
   "cell_type": "code",
   "execution_count": null,
   "id": "arabic-intranet",
   "metadata": {
    "id": "7efe8942-ce16-419f-af2f-44b17d081f47"
   },
   "outputs": [],
   "source": [
    "print(\"Hello again!\")"
   ]
  }
 ],
 "metadata": {
  "kernelspec": {
   "display_name": "Python 3.9",
   "language": "python",
   "name": "python3"
  },
  "language_info": {
   "codemirror_mode": {
    "name": "ipython",
    "version": 3
   },
   "file_extension": ".py",
   "mimetype": "text/x-python",
   "name": "python",
   "nbconvert_exporter": "python",
   "pygments_lexer": "ipython3",
   "version": "3.9.7"
  }
 },
 "nbformat": 4,
 "nbformat_minor": 5
}
